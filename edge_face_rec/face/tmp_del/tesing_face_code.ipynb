{
 "cells": [
  {
   "cell_type": "code",
   "execution_count": 7,
   "metadata": {},
   "outputs": [
    {
     "data": {
      "text/plain": [
       "['tom cruise',\n",
       " 'anne hathaway',\n",
       " 'irrfan khan',\n",
       " 'christian bale',\n",
       " 'jennifer connelly']"
      ]
     },
     "execution_count": 7,
     "metadata": {},
     "output_type": "execute_result"
    }
   ],
   "source": [
    "file_name = '/Users/akash.sahoo/Documents/samsung/2020/door_intelligence/face/rpi/dataset/faces_to_download.txt'\n",
    "with open(file_name) as f:\n",
    "    content = f.readlines()\n",
    "# you may also want to remove whitespace characters like `\\n` at the end of each line\n",
    "content = [x.strip() for x in content] \n",
    "content"
   ]
  },
  {
   "cell_type": "code",
   "execution_count": null,
   "metadata": {},
   "outputs": [],
   "source": []
  },
  {
   "cell_type": "code",
   "execution_count": 5,
   "metadata": {},
   "outputs": [],
   "source": [
    "# python bing_scraper.py --search 'Kaley_Cuoco' --limit 50 --download --chromedrive /usr/local/bin/chromedriver\n"
   ]
  },
  {
   "cell_type": "code",
   "execution_count": 6,
   "metadata": {},
   "outputs": [],
   "source": [
    "import os"
   ]
  },
  {
   "cell_type": "code",
   "execution_count": 9,
   "metadata": {},
   "outputs": [
    {
     "data": {
      "text/plain": [
       "0"
      ]
     },
     "execution_count": 9,
     "metadata": {},
     "output_type": "execute_result"
    }
   ],
   "source": [
    "num_images = 20\n",
    "file_path = 'python /Users/akash.sahoo/Documents/samsung/2020/door_intelligence/face/rpi/dataset/downloader_images/bing_scraper.py'\n",
    "args = \"--search 'Kaley_Cuoco' --limit 50 --download --chromedrive /usr/local/bin/chromedriver\"\n",
    "os.system(file_path+' '+args)\n"
   ]
  },
  {
   "cell_type": "code",
   "execution_count": 37,
   "metadata": {},
   "outputs": [
    {
     "data": {
      "text/plain": [
       "['/Users/akash.sahoo/Documents/samsung/2020/door_intelligence/face/rpi/dataset/images/anne_hathaway/',\n",
       " '/Users/akash.sahoo/Documents/samsung/2020/door_intelligence/face/rpi/dataset/images/tom_cruise/',\n",
       " '/Users/akash.sahoo/Documents/samsung/2020/door_intelligence/face/rpi/dataset/images/irrfan_khan/',\n",
       " '/Users/akash.sahoo/Documents/samsung/2020/door_intelligence/face/rpi/dataset/images/christian_bale/',\n",
       " '/Users/akash.sahoo/Documents/samsung/2020/door_intelligence/face/rpi/dataset/images/jennifer_connelly/']"
      ]
     },
     "execution_count": 37,
     "metadata": {},
     "output_type": "execute_result"
    }
   ],
   "source": [
    "from glob import glob\n",
    "main_folder = '/Users/akash.sahoo/Documents/samsung/2020/door_intelligence/face/rpi/dataset/images/'\n",
    "all_folder = glob(main_folder+\"*/\")\n",
    "all_folder"
   ]
  },
  {
   "cell_type": "code",
   "execution_count": 40,
   "metadata": {},
   "outputs": [],
   "source": [
    "from os import listdir\n",
    "from os.path import isfile, join\n",
    "for face_folder in all_folder:\n",
    "# face_folder = '/Users/akash.sahoo/Documents/samsung/2020/door_intelligence/face/rpi/tmp_del/images/Kaley_Cuoco/'\n",
    "    onlyfiles = [f for f in listdir(face_folder) if isfile(join(face_folder, f))]\n",
    "    rename(face_folder, onlyfiles)\n",
    "    \n",
    "#     print(onlyfiles)"
   ]
  },
  {
   "cell_type": "code",
   "execution_count": 39,
   "metadata": {},
   "outputs": [],
   "source": [
    "def rename(face_folder, onlyfiles):\n",
    "    for i in range(len(onlyfiles)):\n",
    "        \n",
    "        try:\n",
    "            os.rename(face_folder+onlyfiles[i], face_folder+str('%0.8d' % i)+'.jpg')\n",
    "            resize(face_folder+str('%0.8d' % i)+'.jpg')\n",
    "        except Exception as e:\n",
    "            print(e)\n",
    "            try:\n",
    "                os.remove(face_folder+str('%0.8d' % i)+'.jpg')\n",
    "            except Exception as e:\n",
    "                print(e)\n",
    "#         print ('%0.8d' % i)"
   ]
  },
  {
   "cell_type": "code",
   "execution_count": 16,
   "metadata": {},
   "outputs": [
    {
     "data": {
      "text/plain": [
       "'00000049.jpg'"
      ]
     },
     "execution_count": 16,
     "metadata": {},
     "output_type": "execute_result"
    }
   ],
   "source": [
    "str('%0.8d' % i)+'.jpg'"
   ]
  },
  {
   "cell_type": "code",
   "execution_count": 29,
   "metadata": {},
   "outputs": [],
   "source": [
    "\n",
    "from PIL import Image\n",
    "\n",
    "def resize(loc):\n",
    "    basewidth = 800\n",
    "\n",
    "    img = Image.open(loc)\n",
    "    wpercent = (basewidth/float(img.size[0]))\n",
    "    hsize = int((float(img.size[1])*float(wpercent)))\n",
    "    img = img.resize((basewidth,hsize), Image.ANTIALIAS)\n",
    "    img.save(loc) "
   ]
  },
  {
   "cell_type": "code",
   "execution_count": 30,
   "metadata": {},
   "outputs": [],
   "source": [
    "resize('/Users/akash.sahoo/Documents/samsung/2020/door_intelligence/face/rpi/dataset/images/anne_hathaway/00000004.jpg')"
   ]
  },
  {
   "cell_type": "code",
   "execution_count": 44,
   "metadata": {},
   "outputs": [
    {
     "data": {
      "text/plain": [
       "('00000001.jpg', <http.client.HTTPMessage at 0x10d1712b0>)"
      ]
     },
     "execution_count": 44,
     "metadata": {},
     "output_type": "execute_result"
    }
   ],
   "source": [
    "import urllib.request\n",
    "urllib.request.urlretrieve(\"https://pmcdeadline2.files.wordpress.com/2018/07/jennifer-connelly-top-gun.jpg\", \"00000001.jpg\")"
   ]
  },
  {
   "cell_type": "code",
   "execution_count": null,
   "metadata": {},
   "outputs": [],
   "source": []
  }
 ],
 "metadata": {
  "kernelspec": {
   "display_name": "Python 3",
   "language": "python",
   "name": "python3"
  },
  "language_info": {
   "codemirror_mode": {
    "name": "ipython",
    "version": 3
   },
   "file_extension": ".py",
   "mimetype": "text/x-python",
   "name": "python",
   "nbconvert_exporter": "python",
   "pygments_lexer": "ipython3",
   "version": "3.6.10"
  }
 },
 "nbformat": 4,
 "nbformat_minor": 4
}
